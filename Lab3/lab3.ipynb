{
 "cells": [
  {
   "cell_type": "markdown",
   "metadata": {},
   "source": [
    "# Моделювання систем. Лабораторна робота №3"
   ]
  },
  {
   "cell_type": "markdown",
   "metadata": {},
   "source": [
    "## Краснощок Іван, ІПС-31"
   ]
  },
  {
   "cell_type": "code",
   "execution_count": 1,
   "metadata": {},
   "outputs": [],
   "source": [
    "import numpy as np\n",
    "import pandas as pd"
   ]
  },
  {
   "cell_type": "markdown",
   "metadata": {},
   "source": [
    "Завантажуємо дані з файлу y6.txt (за номером у групі):"
   ]
  },
  {
   "cell_type": "code",
   "execution_count": 2,
   "metadata": {},
   "outputs": [],
   "source": [
    "y_observed = np.loadtxt('y6.txt').T\n",
    "n, p = y_observed.shape\n",
    "y_observed = y_observed.reshape((n, p, 1))\n",
    "\n",
    "T = 50.\n",
    "delta_t = T / (n - 1)"
   ]
  },
  {
   "cell_type": "markdown",
   "metadata": {},
   "source": [
    "Початкове наближення оцінюваних параметрів c₁, c₂, m₂:"
   ]
  },
  {
   "cell_type": "code",
   "execution_count": 3,
   "metadata": {},
   "outputs": [],
   "source": [
    "beta = np.array([0.1, 0.15, 19])"
   ]
  },
  {
   "cell_type": "markdown",
   "metadata": {},
   "source": [
    "Модель:\n",
    "![](A.jpg)"
   ]
  },
  {
   "cell_type": "code",
   "execution_count": 4,
   "metadata": {},
   "outputs": [],
   "source": [
    "def calculate_A(m, c):\n",
    "    A = np.zeros((6, 6), dtype=np.float64)\n",
    "    A[0, 1] = 1.\n",
    "    A[1, 0] = -(c[0] + c[1]) / m[0]\n",
    "    A[1, 2] = c[1] / m[0]\n",
    "    A[2, 3] = 1.\n",
    "    A[3, 0] = c[1] / m[1]\n",
    "    A[3, 2] = -(c[1] + c[2]) / m[1]\n",
    "    A[3, 4] = c[2] / m[1]\n",
    "    A[4, 5] = 1.\n",
    "    A[5, 2] = c[2] / m[2]\n",
    "    A[5, 4] = -(c[3] + c[2]) / m[2]\n",
    "    \n",
    "    return A\n",
    "\n",
    "\n",
    "def create_dy_dt(A):\n",
    "    def dy_dt(y, t):\n",
    "        return A @ y\n",
    "    \n",
    "    return dy_dt"
   ]
  },
  {
   "cell_type": "markdown",
   "metadata": {},
   "source": [
    "Матрицю чутливості визначаємо з наступної системи:\n",
    "\n",
    "![](dU_dt.jpg)\n",
    "![](dF_dbeta.jpg)"
   ]
  },
  {
   "cell_type": "code",
   "execution_count": 5,
   "metadata": {},
   "outputs": [],
   "source": [
    "def calculate_dAy_dbeta(m, c, y):\n",
    "    dA_dbeta_1 = np.zeros((6, 6))\n",
    "    dA_dbeta_1[1, 0] = -1. / m[0]\n",
    "\n",
    "    dA_dbeta_2 = np.zeros((6, 6))\n",
    "    dA_dbeta_2[1, 0] = -1. / m[0]\n",
    "    dA_dbeta_2[1, 2] = 1. / m[0]\n",
    "    dA_dbeta_2[3, 0] = 1. / m[1]\n",
    "    dA_dbeta_2[3, 2] = -1. / m[1]\n",
    "    \n",
    "    dA_dbeta_3 = np.zeros((6, 6))\n",
    "    dA_dbeta_3[3, 0] = -c[1] / (m[1] * m[1])\n",
    "    dA_dbeta_3[3, 2] = (c[1] + c[2]) / (m[1] * m[1])\n",
    "    dA_dbeta_3[3, 4] = -c[2] / (m[1] * m[1])\n",
    "    \n",
    "    return np.hstack((dA_dbeta_1 @ y, dA_dbeta_2 @ y, dA_dbeta_3 @ y))\n",
    "\n",
    "\n",
    "def create_dU_dt(A, m, c, y):\n",
    "    dAy_dbeta = calculate_dAy_dbeta(m, c, y)\n",
    "    \n",
    "    def dU_dt(U, t):\n",
    "        return A @ U + dAy_dbeta\n",
    "    \n",
    "    return dU_dt"
   ]
  },
  {
   "cell_type": "markdown",
   "metadata": {},
   "source": [
    "Метод Рунге-Кутта (для чисельного ітегрування):\n",
    "![](Runge_Kutta.jpg)"
   ]
  },
  {
   "cell_type": "code",
   "execution_count": 6,
   "metadata": {},
   "outputs": [],
   "source": [
    "def Runge_Kutta(h, f, y_j, t_j):\n",
    "    k_1 = h * f(y_j, t_j)\n",
    "    k_2 = h * f(y_j + 1 / 2 * k_1, t_j + 1 / 2 * h)\n",
    "    k_3 = h * f(y_j + 1 / 2 * k_2, t_j + 1 / 2 * h)\n",
    "    k_4 = h * f(y_j + k_3, t_j + h)\n",
    "    \n",
    "    return y_j + 1 / 6 * (k_1 + 2 * k_2 + 2 * k_3 + k_4)"
   ]
  },
  {
   "cell_type": "markdown",
   "metadata": {},
   "source": [
    "Показник якості ідентифікації вектора невідомих параметрів β:\n",
    "![](I_beta.jpg)\n",
    "β - β₀:\n",
    "![](delta_beta.jpg)"
   ]
  },
  {
   "cell_type": "code",
   "execution_count": 7,
   "metadata": {},
   "outputs": [],
   "source": [
    "EPS = 1e-9\n",
    "ABS_EPS = 1e-12\n",
    "\n",
    "I_beta_list = []\n",
    "I_beta = None\n",
    "\n",
    "while True:\n",
    "    m = np.array([12, beta[2], 18])\n",
    "    c = np.array([beta[0], beta[1], 0.2, 0.12])\n",
    "    \n",
    "    A = calculate_A(m, c)\n",
    "\n",
    "    integral_UT_U, integral_UT_y = np.zeros((3, 3)), np.zeros((3, 1))\n",
    "    \n",
    "    U_i = np.zeros((6, 3))\n",
    "    y_i = y_observed[0]\n",
    "    I_beta_prev, I_beta = I_beta, 0\n",
    "\n",
    "    for i in range(1, n):\n",
    "        t = i * delta_t\n",
    "        \n",
    "        dU_dt = create_dU_dt(A, m, c, y_i)\n",
    "        U_i = Runge_Kutta(delta_t, dU_dt, U_i, t)\n",
    "\n",
    "        dy_dt = create_dy_dt(A)\n",
    "        y_i = Runge_Kutta(delta_t, dy_dt, y_i, t)\n",
    "        \n",
    "        integral_UT_U += U_i.T @ U_i * delta_t\n",
    "        integral_UT_y += U_i.T @ (y_observed[i] - y_i) * delta_t\n",
    "\n",
    "        I_beta += delta_t * ((y_observed[i] - y_i).T @ (y_observed[i] - y_i)).item()\n",
    "        \n",
    "    delta_beta = (np.linalg.inv(integral_UT_U) @ integral_UT_y).reshape(-1)\n",
    "    beta += delta_beta\n",
    "    \n",
    "    I_beta_list.append(I_beta)\n",
    "    \n",
    "    if I_beta <= EPS or (I_beta_prev is not None and np.abs(I_beta_prev - I_beta) <= ABS_EPS):\n",
    "        break"
   ]
  },
  {
   "cell_type": "markdown",
   "metadata": {},
   "source": [
    "Значення показника якостi iдентифiкацiї на кожній ітерації алгоритму:"
   ]
  },
  {
   "cell_type": "code",
   "execution_count": 8,
   "metadata": {},
   "outputs": [
    {
     "data": {
      "text/html": [
       "<div>\n",
       "<style scoped>\n",
       "    .dataframe tbody tr th:only-of-type {\n",
       "        vertical-align: middle;\n",
       "    }\n",
       "\n",
       "    .dataframe tbody tr th {\n",
       "        vertical-align: top;\n",
       "    }\n",
       "\n",
       "    .dataframe thead th {\n",
       "        text-align: right;\n",
       "    }\n",
       "</style>\n",
       "<table border=\"1\" class=\"dataframe\">\n",
       "  <thead>\n",
       "    <tr style=\"text-align: right;\">\n",
       "      <th></th>\n",
       "      <th>I(β)</th>\n",
       "    </tr>\n",
       "    <tr>\n",
       "      <th>№ ітерації</th>\n",
       "      <th></th>\n",
       "    </tr>\n",
       "  </thead>\n",
       "  <tbody>\n",
       "    <tr>\n",
       "      <th>1</th>\n",
       "      <td>4.470590e+01</td>\n",
       "    </tr>\n",
       "    <tr>\n",
       "      <th>2</th>\n",
       "      <td>6.062049e+00</td>\n",
       "    </tr>\n",
       "    <tr>\n",
       "      <th>3</th>\n",
       "      <td>1.225347e-01</td>\n",
       "    </tr>\n",
       "    <tr>\n",
       "      <th>4</th>\n",
       "      <td>6.741278e-05</td>\n",
       "    </tr>\n",
       "    <tr>\n",
       "      <th>5</th>\n",
       "      <td>1.739590e-08</td>\n",
       "    </tr>\n",
       "    <tr>\n",
       "      <th>6</th>\n",
       "      <td>1.068910e-08</td>\n",
       "    </tr>\n",
       "    <tr>\n",
       "      <th>7</th>\n",
       "      <td>1.068860e-08</td>\n",
       "    </tr>\n",
       "  </tbody>\n",
       "</table>\n",
       "</div>"
      ],
      "text/plain": [
       "                    I(β)\n",
       "№ ітерації              \n",
       "1           4.470590e+01\n",
       "2           6.062049e+00\n",
       "3           1.225347e-01\n",
       "4           6.741278e-05\n",
       "5           1.739590e-08\n",
       "6           1.068910e-08\n",
       "7           1.068860e-08"
      ]
     },
     "execution_count": 8,
     "metadata": {},
     "output_type": "execute_result"
    }
   ],
   "source": [
    "I_beta_table = pd.DataFrame(I_beta_list, columns=['I(β)'])\n",
    "I_beta_table.index += 1\n",
    "I_beta_table.index.name = '№ ітерації'\n",
    "I_beta_table"
   ]
  },
  {
   "cell_type": "markdown",
   "metadata": {},
   "source": [
    "Отримані значення оцінюваних параметрів:"
   ]
  },
  {
   "cell_type": "code",
   "execution_count": 9,
   "metadata": {},
   "outputs": [
    {
     "name": "stdout",
     "output_type": "stream",
     "text": [
      "c₁=0.14, c₂=0.3, m₂=28.0\n"
     ]
    }
   ],
   "source": [
    "c_1, c_2, m_2 = tuple(beta.round(3))\n",
    "print(f'c₁={c_1}, c₂={c_2}, m₂={m_2}')"
   ]
  }
 ],
 "metadata": {
  "kernelspec": {
   "display_name": "Python 3",
   "language": "python",
   "name": "python3"
  },
  "language_info": {
   "codemirror_mode": {
    "name": "ipython",
    "version": 3
   },
   "file_extension": ".py",
   "mimetype": "text/x-python",
   "name": "python",
   "nbconvert_exporter": "python",
   "pygments_lexer": "ipython3",
   "version": "3.8.5"
  }
 },
 "nbformat": 4,
 "nbformat_minor": 4
}
